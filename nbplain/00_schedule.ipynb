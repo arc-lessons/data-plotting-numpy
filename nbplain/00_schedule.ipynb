{
 "cells": [
  {
   "cell_type": "markdown",
   "metadata": {
    "slideshow": {
     "slide_type": "slide"
    }
   },
   "source": [
    "# Working with data and plotting: numpy\n",
    "\n",
    "This lesson introduces some techniques for working with data using numpy and producing plots. It covers:\n",
    "* A brief introduction to Jupyter notebooks.\n",
    "* Introduction to NumPy.\n",
    "* Introduction to matplotlib."
   ]
  },
  {
   "cell_type": "markdown",
   "metadata": {
    "slideshow": {
     "slide_type": "slide"
    }
   },
   "source": [
    "## Prerequisites:\n",
    "\n",
    "In order to complete the lesson you should be familar with the content of the course:\n",
    "* Introduction to Python"
   ]
  },
  {
   "cell_type": "markdown",
   "metadata": {
    "slideshow": {
     "slide_type": "slide"
    }
   },
   "source": [
    "## Schedule:\n",
    "Approximate timings for the lesson:\n",
    "\n",
    "| Time | Episode | Description |\n",
    "|---|---|---|\n",
    "| 0:00 | [Jupyter Notebooks](./01_jupyter.ipynb) | How to use a jupyter notebook |\n",
    "| 0:00 | [NumPy Introduction](./02_numpy_pt1.ipynb) | An introduction to NumPy |\n",
    "| 0:25 | [Tuples, dicts ...](./03_interlude.ipynb) | Interlude: List like structures in Python |\n",
    "| 0:40 | [More NumPy](./04_numpy_pt2.ipynb) | More features of NumPy |\n",
    "| 1:00 | [Plotting with NumPy](./05_plotting.ipynb) | How to plot with NumPy |\n",
    "| 1:20 | [Copying and accessing arrays](06_copy_access.ipynb) | How to copy and access subsets of arrays|\n",
    "| 1:40 | [Manipulating Array](07_manipulate_indices.ipynb) | Manipulating Arrays |\n",
    "| 2:00 | [File handling](08_file_handling) | Reading and Writing Files with Numpy |\n",
    "| 2:30 | [Vectorisation](09_vectorisation.ipynb) | Vector operations (for free) in Numpy) |\n",
    "| 3:00 | [Performance](10_performance.ipynb) | Performance with Python |\n",
    "\n",
    "### Additional topics\n",
    "\n",
    "Features:\n",
    "\n",
    "| Episode | Description |\n",
    "|---|---|\n",
    "| [Something Random](11_random.ipynb) | Random numbers in Numpy |\n",
    "| [Working with Poloynomials](12_polynomials.ipynb) | Manipulating polynomial representations |\n",
    "\n",
    "More performance:\n",
    "\n",
    "| Episode | Description |\n",
    "|---|---|\n",
    "| [Numba](13_numba.ipynb) | Numba jit library |\n",
    "| [Scipy](14_scipy.ipynb) | Scipy |\n",
    "| [Cython](15_cython.ipynb) | Cython |\n"
   ]
  },
  {
   "cell_type": "markdown",
   "metadata": {
    "slideshow": {
     "slide_type": "slide"
    }
   },
   "source": [
    "## Setup:\n",
    "\n",
    "Log on to the server for today's course at https://rss.jupyterhub.bath.ac.uk.  We will need to make copy the `data-plotting` folder, which will also use for the notebooks we will generate during the lesson.  DO this by opening the Welcome.ipynb notebook and following the set up for Data and plotting.  Data and files for the research software courses is available in the folder `data-plotting`."
   ]
  }
 ],
 "metadata": {
  "celltoolbar": "Slideshow",
  "kernelspec": {
   "display_name": "Python 3",
   "language": "python",
   "name": "python3"
  },
  "language_info": {
   "codemirror_mode": {
    "name": "ipython",
    "version": 3
   },
   "file_extension": ".py",
   "mimetype": "text/x-python",
   "name": "python",
   "nbconvert_exporter": "python",
   "pygments_lexer": "ipython3",
   "version": "3.8.3"
  }
 },
 "nbformat": 4,
 "nbformat_minor": 2
}
